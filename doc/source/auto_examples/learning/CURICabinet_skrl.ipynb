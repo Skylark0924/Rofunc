{
  "cells": [
    {
      "cell_type": "code",
      "execution_count": null,
      "metadata": {
        "collapsed": false
      },
      "outputs": [],
      "source": [
        "%matplotlib inline"
      ]
    },
    {
      "cell_type": "markdown",
      "metadata": {},
      "source": [
        "\n# CURICabinet\n\nOpen a cabinet with the left arm of humanoid CURI robot\n"
      ]
    },
    {
      "cell_type": "code",
      "execution_count": null,
      "metadata": {
        "collapsed": false
      },
      "outputs": [],
      "source": [
        "import argparse\nimport sys\n\nfrom rofunc.config.utils import get_config\nfrom rofunc.config.utils import omegaconf_to_dict\nfrom rofunc.lfd.rl.utils.skrl_utils import set_cfg_ppo, set_models_ppo\nfrom rofunc.lfd.rl.tasks import task_map\nfrom rofunc.data.models import model_zoo\nfrom rofunc.utils.logger.beauty_logger import beauty_print\n\nfrom hydra._internal.utils import get_args_parser\nfrom skrl.agents.torch.ppo import PPO\nfrom skrl.envs.torch import wrap_env\nfrom skrl.memories.torch import RandomMemory\n# Import the skrl components to build the RL system\nfrom skrl.trainers.torch import SequentialTrainer\nfrom skrl.utils import set_seed\n\n\ndef setup(custom_args, eval_mode=False):\n    # set the seed for reproducibility\n    set_seed(42)\n\n    # get config\n    sys.argv.append(\"task={}\".format(\"CURICabinet\"))\n    sys.argv.append(\"sim_device={}\".format(custom_args.sim_device))\n    sys.argv.append(\"rl_device={}\".format(custom_args.rl_device))\n    sys.argv.append(\"graphics_device_id={}\".format(custom_args.graphics_device_id))\n    args = get_args_parser().parse_args()\n    cfg = get_config('./learning/rl', 'config', args=args)\n    cfg_dict = omegaconf_to_dict(cfg.task)\n\n    if eval_mode:\n        cfg_dict['env']['numEnvs'] = 16\n\n    env = task_map[\"CURICabinet\"](cfg=cfg_dict,\n                                  rl_device=cfg.rl_device,\n                                  sim_device=cfg.sim_device,\n                                  graphics_device_id=cfg.graphics_device_id,\n                                  headless=cfg.headless,\n                                  virtual_screen_capture=cfg.capture_video,  # TODO: check\n                                  force_render=cfg.force_render)\n    env = wrap_env(env)\n\n    device = env.device\n\n    # Instantiate a RandomMemory as rollout buffer (any memory can be used for this)\n    memory = RandomMemory(memory_size=16, num_envs=env.num_envs, device=device)\n\n    models_ppo = set_models_ppo(cfg, env, device)\n    cfg_ppo = set_cfg_ppo(cfg, env, device)\n\n    agent = PPO(models=models_ppo,\n                memory=memory,\n                cfg=cfg_ppo,\n                observation_space=env.observation_space,\n                action_space=env.action_space,\n                device=device)\n\n    return env, agent\n\n\ndef train(custom_args):\n    beauty_print(\"Start training\")\n\n    env, agent = setup(custom_args)\n\n    # Configure and instantiate the RL trainer\n    cfg_trainer = {\"timesteps\": 24000, \"headless\": True}\n    trainer = SequentialTrainer(cfg=cfg_trainer, env=env, agents=agent)\n\n    # start training\n    trainer.train()\n\n\ndef eval(custom_args, ckpt_path=None):\n    beauty_print(\"Start evaluating\")\n\n    env, agent = setup(custom_args, eval_mode=True)\n\n    # load checkpoint (agent)\n    if ckpt_path is None:\n        ckpt_path = model_zoo(name=\"CURICabinet_right_arm.pt\")\n    agent.load(ckpt_path)\n\n    # Configure and instantiate the RL trainer\n    cfg_trainer = {\"timesteps\": 1600, \"headless\": True}\n    trainer = SequentialTrainer(cfg=cfg_trainer, env=env, agents=agent)\n\n    # evaluate the agent\n    trainer.eval()\n\n\nif __name__ == '__main__':\n    parser = argparse.ArgumentParser()\n    parser.add_argument(\"--sim_device\", type=str, default=\"cuda:1\")\n    parser.add_argument(\"--rl_device\", type=str, default=\"cuda:1\")\n    parser.add_argument(\"--graphics_device_id\", type=int, default=1)\n    parser.add_argument(\"--train\", action=\"store_true\", help=\"turn to train mode while adding this argument\")\n    custom_args = parser.parse_args()\n\n    if custom_args.train:\n        train(custom_args)\n    else:\n        eval(custom_args)"
      ]
    }
  ],
  "metadata": {
    "kernelspec": {
      "display_name": "Python 3",
      "language": "python",
      "name": "python3"
    },
    "language_info": {
      "codemirror_mode": {
        "name": "ipython",
        "version": 3
      },
      "file_extension": ".py",
      "mimetype": "text/x-python",
      "name": "python",
      "nbconvert_exporter": "python",
      "pygments_lexer": "ipython3",
      "version": "3.7.6"
    }
  },
  "nbformat": 4,
  "nbformat_minor": 0
}